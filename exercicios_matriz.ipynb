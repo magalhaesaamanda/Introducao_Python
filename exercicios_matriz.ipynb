{
  "nbformat": 4,
  "nbformat_minor": 0,
  "metadata": {
    "colab": {
      "provenance": [],
      "include_colab_link": true
    },
    "kernelspec": {
      "name": "python3",
      "display_name": "Python 3"
    },
    "language_info": {
      "name": "python"
    }
  },
  "cells": [
    {
      "cell_type": "markdown",
      "metadata": {
        "id": "view-in-github",
        "colab_type": "text"
      },
      "source": [
        "<a href=\"https://colab.research.google.com/github/magalhaesaamanda/Introducao_Python/blob/main/exercicios_matriz.ipynb\" target=\"_parent\"><img src=\"https://colab.research.google.com/assets/colab-badge.svg\" alt=\"Open In Colab\"/></a>"
      ]
    },
    {
      "cell_type": "markdown",
      "source": [
        "# Exercícios de Matriz\n"
      ],
      "metadata": {
        "id": "tjTv_izsVeZ0"
      }
    },
    {
      "cell_type": "markdown",
      "source": [
        "## Exercício 1\n",
        "\n",
        "\n",
        "Faça um programa que lê uma matriz 10x10 e cria dois vetores de dez posições cada\n",
        "um que contenham, respectivamente, as somas das linhas e das colunas da matriz.\n",
        "Escreva a matriz e os vetores resultantes.\n"
      ],
      "metadata": {
        "id": "ZM9HtwnKWR9S"
      }
    },
    {
      "cell_type": "code",
      "source": [
        "# Orientações para preencher as matrizes\n",
        "print(\"Neste programa será inserida uma matriz 10x10. Os elementos deverão \\nser inseridos separados por espaço, como por exemplo: \\n \\n0 1 2 3 4 5 6 7 8 9 - 10 elementos por linha. \\n\")\n",
        "\n",
        "# Recebendo a matriz por linha e separado com split() e map()\n",
        "matriz_lin = [list(map(int, input(f\"Digite a {x}ª linha da matriz 10x10: \").split())) for x in range(1,11)]\n",
        "\n",
        "# Criando matriz por colunas\n",
        "matriz_col = [[matriz_lin[y][x] for y in range(10)] for x in range(10)]\n",
        "\n",
        "#Realizando a soma das linhas e colunas da matriz\n",
        "linha = [sum(x) for x in matriz_lin]\n",
        "coluna = [sum(x) for x in matriz_col]\n",
        "\n",
        "# Imprimindo a soma das linhas e colunas da matriz\n",
        "print(f'\\n ------ SOMA LINHA MATRIZES ------\\n', linha, '\\n')\n",
        "print(f'\\n ----- SOMA COLUNA MATRIZES -----\\n', coluna, '\\n')"
      ],
      "metadata": {
        "colab": {
          "base_uri": "https://localhost:8080/"
        },
        "id": "Q6Q9vCcPHkbr",
        "outputId": "293ef909-d8ff-449b-ed0c-a7dedce2de7b"
      },
      "execution_count": 6,
      "outputs": [
        {
          "output_type": "stream",
          "name": "stdout",
          "text": [
            "Neste programa será inserida uma matriz 10x10. Os elementos deverão \n",
            "ser inseridos separados por espaço, como por exemplo: \n",
            " \n",
            "0 1 2 3 4 5 6 7 8 9 - 10 elementos por linha. \n",
            "\n",
            "Digite a 1ª linha da matriz 10x10: 0 1 2 3 4 5 6 7 8 9\n",
            "Digite a 2ª linha da matriz 10x10: 0 1 2 3 4 5 6 7 8 9\n",
            "Digite a 3ª linha da matriz 10x10: 0 1 2 3 4 5 6 7 8 9\n",
            "Digite a 4ª linha da matriz 10x10: 0 1 2 3 4 5 6 7 8 9\n",
            "Digite a 5ª linha da matriz 10x10: 0 1 2 3 4 5 6 7 8 9\n",
            "Digite a 6ª linha da matriz 10x10: 0 1 2 3 4 5 6 7 8 9\n",
            "Digite a 7ª linha da matriz 10x10: 0 1 2 3 4 5 6 7 8 9\n",
            "Digite a 8ª linha da matriz 10x10: 0 1 2 3 4 5 6 7 8 9\n",
            "Digite a 9ª linha da matriz 10x10: 0 1 2 3 4 5 6 7 8 9\n",
            "Digite a 10ª linha da matriz 10x10: 0 1 2 3 4 5 6 7 8 9\n",
            "\n",
            " ------ SOMA LINHA MATRIZES ------\n",
            " [45, 45, 45, 45, 45, 45, 45, 45, 45, 45] \n",
            "\n",
            "\n",
            " ----- SOMA COLUNA MATRIZES -----\n",
            " [0, 10, 20, 30, 40, 50, 60, 70, 80, 90] \n",
            "\n"
          ]
        }
      ]
    },
    {
      "cell_type": "code",
      "source": [],
      "metadata": {
        "id": "Sno2UAlSWdXM"
      },
      "execution_count": null,
      "outputs": []
    }
  ]
}